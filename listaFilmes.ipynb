{
  "nbformat": 4,
  "nbformat_minor": 0,
  "metadata": {
    "colab": {
      "name": "listaFilmes.ipynb",
      "provenance": [],
      "authorship_tag": "ABX9TyOCNZ+qIakftzlcH6khV/Yw",
      "include_colab_link": true
    },
    "kernelspec": {
      "name": "python3",
      "display_name": "Python 3"
    }
  },
  "cells": [
    {
      "cell_type": "markdown",
      "metadata": {
        "id": "view-in-github",
        "colab_type": "text"
      },
      "source": [
        "<a href=\"https://colab.research.google.com/github/limavanessa/portfolio-python/blob/main/listaFilmes.ipynb\" target=\"_parent\"><img src=\"https://colab.research.google.com/assets/colab-badge.svg\" alt=\"Open In Colab\"/></a>"
      ]
    },
    {
      "cell_type": "code",
      "metadata": {
        "id": "-reblvAhRLaR"
      },
      "source": [
        "filmes = []\r\n",
        "series = []\r\n",
        "\r\n",
        "# constroi classes dos objetos (filme e serie) com seus respectivos generos\r\n",
        "class Filme:\r\n",
        "  def __init__(self, titulo, genero, filmes):\r\n",
        "    self.titulo = titulo\r\n",
        "    self.genero = genero\r\n",
        "    self.filmes = filmes\r\n",
        "\r\n",
        "class Serie:\r\n",
        "  def __init__(self, titulo, genero, series):\r\n",
        "    self.titulo = titulo\r\n",
        "    self.genero = genero\r\n",
        "    self.series = series\r\n"
      ],
      "execution_count": 1,
      "outputs": []
    },
    {
      "cell_type": "code",
      "metadata": {
        "colab": {
          "base_uri": "https://localhost:8080/"
        },
        "id": "N7MrnF_uqgTQ",
        "outputId": "f14ef15e-f5c3-4c4f-f734-82c7965ce688"
      },
      "source": [
        "  # variavel armazena opcao de entrada como (A) Filme ou (B) Serie\r\n",
        "  def incluiItem():\r\n",
        "    opcao = input('Deseja incluir um título? Digite: (A) Filme    (B) Série ')\r\n",
        "    opcao = opcao.upper().strip()\r\n",
        "    \r\n",
        "\r\n",
        "# considera a opcao A e recebe o titulo do item (se Filme)\r\n",
        "    if (opcao == 'A'):\r\n",
        "      titulo = input('Filme: ').upper()\r\n",
        "      genero = input('Gênero: ').upper()\r\n",
        "      filme = { titulo : genero }\r\n",
        "      if (filme in filmes):\r\n",
        "        print(f'{filme} já consta na lista. Incluir outro título?')\r\n",
        "\r\n",
        "      else:\r\n",
        "        filmes.append(filme)\r\n",
        "        return filmes\r\n",
        "\r\n",
        "\r\n",
        "# considera a opcao B e recebe o titulo do item (se Serie)\r\n",
        "    if (opcao == 'B'):\r\n",
        "      titulo = input('Série: ').upper()\r\n",
        "      genero = input('Gênero: ').upper()\r\n",
        "      serie = { titulo : genero }\r\n",
        "      if (serie in series): \r\n",
        "        print(f'{serie} já consta na lista. Incluir outro título?')\r\n",
        "\r\n",
        "      else:\r\n",
        "        series.append(serie)\r\n",
        "        return series\r\n",
        "\r\n",
        "  incluiItem()\r\n",
        "     "
      ],
      "execution_count": 7,
      "outputs": [
        {
          "output_type": "stream",
          "text": [
            "Deseja incluir um título? Digite: (A) Filme    (B) Série b\n",
            "Série: friends\n",
            "Gênero: sitcom\n"
          ],
          "name": "stdout"
        },
        {
          "output_type": "execute_result",
          "data": {
            "text/plain": [
              "[{'DARK': 'FICÇÃO CIENTÍFICA'}, {'FRIENDS': 'SITCOM'}]"
            ]
          },
          "metadata": {
            "tags": []
          },
          "execution_count": 7
        }
      ]
    },
    {
      "cell_type": "code",
      "metadata": {
        "id": "dmrlwGDj8cJh"
      },
      "source": [
        ""
      ],
      "execution_count": null,
      "outputs": []
    }
  ]
}